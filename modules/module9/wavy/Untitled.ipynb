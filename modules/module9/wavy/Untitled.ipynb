{
 "cells": [
  {
   "cell_type": "markdown",
   "metadata": {},
   "source": [
    "# FizzBuzz\n",
    "\n",
    "Write a program that outputs the string representation of numbers from 1 to n.\n",
    "\n",
    "But \n",
    "\n",
    "1. For multiples of three it should output “Fizz” instead of the number \n",
    "2. For the multiples of five output “Buzz”. \n",
    "3. For numbers which are multiples of both three and five output “FizzBuzz”.\n",
    "4. Otherwise just output the number\n",
    "\n",
    "## Example:\n",
    "\n",
    "n = 15,\n",
    "\n",
    "Returns:\n",
    "  [\n",
    "      \"1\",\n",
    "      \"2\",\n",
    "      \"Fizz\",\n",
    "      \"4\",\n",
    "      \"Buzz\",\n",
    "      \"Fizz\",\n",
    "      \"7\",\n",
    "      \"8\",\n",
    "      \"Fizz\",\n",
    "      \"Buzz\",\n",
    "      \"11\",\n",
    "      \"Fizz\",\n",
    "      \"13\",\n",
    "      \"14\",\n",
    "      \"FizzBuzz\"\n",
    "  ]"
   ]
  },
  {
   "cell_type": "code",
   "execution_count": null,
   "metadata": {},
   "outputs": [],
   "source": []
  }
 ],
 "metadata": {
  "kernelspec": {
   "display_name": "PythonData",
   "language": "python",
   "name": "pythondata"
  },
  "language_info": {
   "codemirror_mode": {
    "name": "ipython",
    "version": 3
   },
   "file_extension": ".py",
   "mimetype": "text/x-python",
   "name": "python",
   "nbconvert_exporter": "python",
   "pygments_lexer": "ipython3",
   "version": "3.7.7"
  }
 },
 "nbformat": 4,
 "nbformat_minor": 4
}

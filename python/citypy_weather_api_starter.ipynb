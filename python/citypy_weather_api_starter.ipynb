{
 "cells": [
  {
   "cell_type": "markdown",
   "metadata": {},
   "source": [
    "# Citypy introduction "
   ]
  },
  {
   "cell_type": "code",
   "execution_count": 1,
   "metadata": {},
   "outputs": [],
   "source": [
    "# You need to:\n",
    "# 1) \"pip install citipy\" \n",
    "# 2) \"pip install gmaps\"\n",
    "from citipy import citipy\n",
    "import random\n",
    "import requests\n",
    "import numpy as np\n",
    "import matplotlib.pyplot as plt\n",
    "import datetime as dt\n",
    "import sys\n",
    "import pandas as pd\n",
    "import time\n",
    "from scipy.stats import linregress\n",
    "import gmaps\n",
    "from weather_config import weather_api_key\n",
    "from weather_config import g_key"
   ]
  },
  {
   "cell_type": "code",
   "execution_count": 2,
   "metadata": {},
   "outputs": [
    {
     "data": {
      "text/plain": [
       "[[-2.7466296286026193, -164.36057705172087],\n",
       " [-50.22484155017659, 18.08909031547418],\n",
       " [-37.57366155404639, -171.01630055779395]]"
      ]
     },
     "execution_count": 2,
     "metadata": {},
     "output_type": "execute_result"
    }
   ],
   "source": [
    "# Create a list of coordinates. See this list comprehension method\n",
    "# for creating them. \n",
    "coordinates = [[random.uniform(-90, 90) ,random.uniform(-180, 180)] for x in range(3)]\n",
    "coordinates"
   ]
  },
  {
   "cell_type": "code",
   "execution_count": 3,
   "metadata": {},
   "outputs": [],
   "source": [
    "#lats = np.random.uniform(-90,90, size=5)\n",
    "#longs = np.random.uniform(-180,180, size=5)\n",
    "#coordinates = zip(lats, longs)\n",
    "#list(coordinates)"
   ]
  },
  {
   "cell_type": "code",
   "execution_count": 4,
   "metadata": {},
   "outputs": [
    {
     "name": "stdout",
     "output_type": "stream",
     "text": [
      "samusu,ws\n",
      "bredasdorp,za\n",
      "vaini,to\n"
     ]
    }
   ],
   "source": [
    "# Loop through the coordinates and find the nearest city\n",
    "for coord in coordinates:\n",
    "    print(f\"{citipy.nearest_city(coord[0], coord[1]).city_name},{citipy.nearest_city(coord[0], coord[1]).country_code}\")"
   ]
  },
  {
   "cell_type": "code",
   "execution_count": 5,
   "metadata": {},
   "outputs": [],
   "source": [
    "#Module 6.2.2 explains how to get the api key and\n",
    "# create config.py with the api key defined in it.\n",
    "# I named mine weatherconfig.py.\n",
    "# Remember to create a py file, not an ipynb file.\n",
    "from weather_config import weather_api_key"
   ]
  },
  {
   "cell_type": "code",
   "execution_count": 11,
   "metadata": {},
   "outputs": [
    {
     "name": "stdout",
     "output_type": "stream",
     "text": [
      "{'q': 'samusu,ws', 'units': 'Imperial', 'appid': '1cc62cc5a86b074aef50f7b91a660042'}\n",
      "Failed to get the weather for samusu,ws\n",
      "{'q': 'bredasdorp,za', 'units': 'Imperial', 'appid': '1cc62cc5a86b074aef50f7b91a660042'}\n",
      "Temperature in bredasdorp,za is 59 degrees farenheit at date: 2020-10-29 time: 02:11:07\n",
      "{'q': 'vaini,to', 'units': 'Imperial', 'appid': '1cc62cc5a86b074aef50f7b91a660042'}\n",
      "Temperature in vaini,to is 77 degrees farenheit at date: 2020-10-29 time: 02:14:33\n"
     ]
    }
   ],
   "source": [
    "# Current weather URL for the cities\n",
    "# See https://openweathermap.org/current for documentation\n",
    "for coord in coordinates:\n",
    "    city_name_code = f\"{citipy.nearest_city(coord[0], coord[1]).city_name},{citipy.nearest_city(coord[0], coord[1]).country_code}\"\n",
    "    #url = f\"http://api.openweathermap.org/data/2.5/weather?q={city_name_code}&units=Imperial&appid={weather_api_key}\"\n",
    "    #print(url)\n",
    "    base_url = \"http://api.openweathermap.org/data/2.5/weather\"\n",
    "    #params = []\n",
    "    #params.append(f\"q={city_name_code}\")\n",
    "    #params.append(\"units=Imperial\")\n",
    "    #params.append(f\"appid={weather_api_key}\")\n",
    "    #print(params)\n",
    "    \n",
    "    params = { \n",
    "        \"q\" : city_name_code, \n",
    "        \"units\" : \"Imperial\", \n",
    "        \"appid\" : weather_api_key }\n",
    "    print(params)\n",
    "    \n",
    "    #result = requests.get(url)\n",
    "    result = requests.get(base_url, params=params)\n",
    "    #print(result.json())\n",
    "    if result.json().get(\"cod\") == 200:\n",
    "        weather_data = result.json()\n",
    "        temperature = weather_data[\"main\"][\"temp\"]\n",
    "        \n",
    "        # Get the datetime as a string, formatted to print\n",
    "        temp_date_time = weather_data[\"dt\"]\n",
    "        weather_dt = dt.datetime.utcfromtimestamp(weather_data[\"dt\"])\n",
    "        weather_dt_string = weather_dt.strftime('date: %Y-%m-%d time: %H:%M:%S')\n",
    "        \n",
    "        print(f\"Temperature in {city_name_code} is {temperature} degrees farenheit at {weather_dt_string}\")\n",
    "    else:\n",
    "        print(f\"Failed to get the weather for {city_name_code}\")"
   ]
  },
  {
   "cell_type": "markdown",
   "metadata": {},
   "source": [
    "# Now lets do this as in Module 6.2.6"
   ]
  },
  {
   "cell_type": "code",
   "execution_count": null,
   "metadata": {},
   "outputs": [],
   "source": [
    "# Create a list of coordinates. See this list comprehension method for creating them. \n",
    "coordinates = [[random.uniform(-90, 90) ,random.uniform(-180, 180)] for x in range(5)]\n",
    "coordinates\n",
    "\n",
    "# Create a list for holding the cities.\n",
    "cities = []\n",
    "# Identify the nearest city for each latitude and longitude combination.\n",
    "for coordinate in coordinates:\n",
    "    city = citipy.nearest_city(coordinate[0], coordinate[1]).city_name \n",
    "    \n",
    "    # If the city is unique, then we will add it to the cities list.\n",
    "    if city not in cities:\n",
    "        cities.append(city)\n",
    "        \n",
    "#set_count = 1\n",
    "#record_count = 1\n",
    "\n",
    "url = \"http://api.openweathermap.org/data/2.5/weather?units=Imperial&APPID=\" + weather_api_key\n",
    "\n",
    "# Create a list to hold a dictionary for each city\n",
    "city_data = []\n",
    "\n",
    "# Loop through all the cities in the list.\n",
    "for i, city in enumerate(cities):\n",
    "\n",
    "    # Group cities in sets of 5 for logging purposes.\n",
    "    \"\"\"\n",
    "    if (i % 5 == 0 and i >= 5):\n",
    "        set_count += 1\n",
    "        record_count = 1\n",
    "    # Create endpoint URL with each city.\n",
    "    city_url = url + \"&q=\" + city.replace(\" \",\"+\")\n",
    "    #city_url = f\"http://api.openweathermap.org/data/2.5/weather?q={city.replace(' ','+')}&units=Imperial&appid={weather_api_key}\"\n",
    "    print(city_url)\n",
    "\n",
    "    # Log the URL, record, and set numbers and the city.\n",
    "    print(f\"Processing Record {record_count} of Set {set_count} | {city}\")\n",
    "    # Add 1 to the record count.\n",
    "    record_count += 1\n",
    "    \"\"\"\n",
    "    print(f\"Processing {city}\")\n",
    "    city_url = url + \"&q=\" + city.replace(\" \",\"+\")\n",
    "    \n",
    "    try:\n",
    "        # Parse the JSON and retrieve data.\n",
    "        city_weather = requests.get(city_url).json()\n",
    "        print(city_weather)\n",
    "        # Parse out the needed data.\n",
    "        city_lat = city_weather[\"coord\"][\"lat\"]\n",
    "        city_lng = city_weather[\"coord\"][\"lon\"]\n",
    "        city_max_temp = city_weather[\"main\"][\"temp_max\"]\n",
    "        city_humidity = city_weather[\"main\"][\"humidity\"]\n",
    "        city_clouds = city_weather[\"clouds\"][\"all\"]\n",
    "        city_wind = city_weather[\"wind\"][\"speed\"]\n",
    "        city_country = city_weather[\"sys\"][\"country\"]\n",
    "        # Convert the date to ISO standard.\n",
    "        city_date = dt.datetime.utcfromtimestamp(city_weather[\"dt\"]).strftime('%Y-%m-%d %H:%M:%S')\n",
    "        # Append the city information into city_data list.\n",
    "        city_data.append({\"City\": city.title(),\n",
    "                          \"Lat\": city_lat,\n",
    "                          \"Lng\": city_lng,\n",
    "                          \"Max Temp\": city_max_temp,\n",
    "                          \"Humidity\": city_humidity,\n",
    "                          \"Cloudiness\": city_clouds,\n",
    "                          \"Wind Speed\": city_wind,\n",
    "                          \"Country\": city_country,\n",
    "                          \"Date\": city_date})\n",
    "\n",
    "    # If an error is experienced, skip the city.\n",
    "    except:\n",
    "        print(\"City not found. Skipping...\")\n",
    "        pass\n",
    "\n",
    "# Indicate that Data Loading is complete.\n",
    "print(\"-----------------------------\")\n",
    "print(\"Data Retrieval Complete      \")\n",
    "print(\"-----------------------------\")\n"
   ]
  },
  {
   "cell_type": "code",
   "execution_count": null,
   "metadata": {},
   "outputs": [],
   "source": [
    "# Create a DataFrome from the city_data[]\n",
    "city_data_df = pd.DataFrame(city_data)\n",
    "city_data_df.head(10)"
   ]
  },
  {
   "cell_type": "code",
   "execution_count": null,
   "metadata": {},
   "outputs": [],
   "source": [
    "# Reorder\n",
    "new_column_order = ['City', 'Country', 'Date', 'Lat', 'Lng', 'Max Temp', 'Humidity', 'Cloudiness', 'Wind Speed']\n",
    "#new_column_order\n",
    "city_data_df = city_data_df[new_column_order]\n",
    "city_data_df.head(10)"
   ]
  },
  {
   "cell_type": "code",
   "execution_count": null,
   "metadata": {},
   "outputs": [],
   "source": [
    "# Build the scatter plot for latitude vs. max temperature.\n",
    "plt.scatter(city_data_df[\"Lat\"],\n",
    "            city_data_df['Max Temp'],\n",
    "            edgecolor=\"black\", linewidths=1, marker=\"o\",\n",
    "            alpha=0.8, label=\"Cities\")\n",
    "\n",
    "# Incorporate the other graph properties.\n",
    "plt.title(f\"City Latitude vs. Max Temperature \"+ time.strftime(\"%x\"))\n",
    "plt.ylabel(\"Max Temperature (F)\")\n",
    "plt.xlabel(\"Latitude\")\n",
    "plt.grid(True)\n",
    "\n",
    "# Show plot.\n",
    "plt.show()"
   ]
  },
  {
   "cell_type": "code",
   "execution_count": null,
   "metadata": {},
   "outputs": [],
   "source": [
    "# Section 6.4.1 regression\n",
    "(slope, intercept, r_value, p_value, std_err) = linregress(city_data_df[\"Lat\"], city_data_df['Max Temp'])\n",
    "# Get the equation of the line.\n",
    "line_eq = \"y = \" + str(round(slope,2)) + \"x + \" + str(round(intercept,2))\n",
    "print(line_eq)\n",
    "print(f\"The p-value is: {p_value:.3f}\")"
   ]
  },
  {
   "cell_type": "code",
   "execution_count": null,
   "metadata": {},
   "outputs": [],
   "source": [
    "# Build the scatter plot for latitude vs. max temperature.\n",
    "plt.scatter(city_data_df[\"Lat\"],\n",
    "            city_data_df['Max Temp'],\n",
    "            edgecolor=\"black\", linewidths=1, marker=\"o\",\n",
    "            alpha=0.8, label=\"Cities\")\n",
    "#Plot the regression line\n",
    "regress_values = [(lat * slope + intercept) for lat in city_data_df[\"Lat\"]]\n",
    "plt.plot(city_data_df[\"Lat\"],regress_values,\"r\")\n",
    "\n",
    "# Incorporate the other graph properties.\n",
    "plt.title(f\"City Latitude vs. Max Temperature \"+ time.strftime(\"%x\"))\n",
    "plt.ylabel(\"Max Temperature (F)\")\n",
    "plt.xlabel(\"Latitude\")\n",
    "plt.grid(True)\n",
    "\n",
    "# Annotate the text for the line equation and add its coordinates.\n",
    "plt.annotate(line_eq, (-57,10), fontsize=15, color=\"red\")\n",
    "\n",
    "# Show plot.\n",
    "plt.show()"
   ]
  },
  {
   "cell_type": "markdown",
   "metadata": {},
   "source": [
    "# Does latitude correlate to max temp?\n",
    "Module 6.4.2"
   ]
  },
  {
   "cell_type": "code",
   "execution_count": null,
   "metadata": {},
   "outputs": [],
   "source": [
    "# Northern Hemisphere\n",
    "northern_df = city_data_df.loc[(city_data_df[\"Lat\"] >= 0)]\n",
    "plt.scatter(northern_df['Lat'],\n",
    "            northern_df['Max Temp'],\n",
    "            edgecolor=\"black\", linewidths=1, marker=\"o\",\n",
    "            alpha=0.8, label=\"Cities\")\n",
    "#Plot the regression line\n",
    "(slope, intercept, r_value, p_value, std_err) = linregress(northern_df[\"Lat\"], northern_df['Max Temp'])\n",
    "regress_values = [(lat * slope + intercept) for lat in northern_df['Lat']]\n",
    "plt.plot(northern_df['Lat'],regress_values,\"r\")\n",
    "\n",
    "# Incorporate the other graph properties.\n",
    "plt.title(f\"City Latitude vs. Max Temperature \"+ time.strftime(\"%x\"))\n",
    "plt.ylabel(\"Max Temperature (F)\")\n",
    "plt.xlabel(\"Latitude\")\n",
    "plt.grid(True)\n",
    "\n",
    "# Show plot.\n",
    "plt.show()"
   ]
  },
  {
   "cell_type": "code",
   "execution_count": null,
   "metadata": {},
   "outputs": [],
   "source": [
    "# Southern Hemisphere\n",
    "southern_df = city_data_df.loc[(city_data_df[\"Lat\"] < 0)]\n",
    "plt.scatter(southern_df['Lat'],\n",
    "            southern_df['Max Temp'],\n",
    "            edgecolor=\"black\", linewidths=1, marker=\"o\",\n",
    "            alpha=0.8, label=\"Cities\")\n",
    "#Plot the regression line\n",
    "(slope, intercept, r_value, p_value, std_err) = linregress(southern_df[\"Lat\"], southern_df['Max Temp'])\n",
    "regress_values = [(lat * slope + intercept) for lat in southern_df['Lat']]\n",
    "plt.plot(southern_df['Lat'],regress_values,\"r\")\n",
    "\n",
    "# Incorporate the other graph properties.\n",
    "plt.title(f\"City Latitude vs. Max Temperature \"+ time.strftime(\"%x\"))\n",
    "plt.ylabel(\"Max Temperature (F)\")\n",
    "plt.xlabel(\"Latitude\")\n",
    "plt.grid(True)\n",
    "\n",
    "# Show plot.\n",
    "plt.show()"
   ]
  },
  {
   "cell_type": "markdown",
   "metadata": {},
   "source": [
    "# Gmaps!\n",
    "Starting at Module 6.5.2"
   ]
  },
  {
   "cell_type": "code",
   "execution_count": null,
   "metadata": {},
   "outputs": [],
   "source": [
    "# Configure gmaps to use your Google API key.\n",
    "gmaps.configure(api_key=g_key)"
   ]
  },
  {
   "cell_type": "code",
   "execution_count": null,
   "metadata": {
    "scrolled": true
   },
   "outputs": [],
   "source": [
    "# Heatmap of percent humidity\n",
    "locations = city_data_df[[\"Lat\", \"Lng\"]]\n",
    "humidity = city_data_df[\"Humidity\"]\n",
    "fig = gmaps.figure(center=(30.0, 31.0), zoom_level=1.5)\n",
    "heat_layer = gmaps.heatmap_layer(locations, weights=humidity, dissipating=False, max_intensity=300, point_radius=4)\n",
    "\n",
    "fig.add_layer(heat_layer)\n",
    "# Call the figure to plot the data.\n",
    "fig\n"
   ]
  },
  {
   "cell_type": "code",
   "execution_count": null,
   "metadata": {},
   "outputs": [],
   "source": [
    "# Heatmap of wind speed\n",
    "locations = city_data_df[[\"Lat\", \"Lng\"]]\n",
    "wind = city_data_df[\"Wind Speed\"]\n",
    "fig = gmaps.figure(center=(30.0, 31.0), zoom_level=1.5)\n",
    "heat_layer = gmaps.heatmap_layer(locations, weights=wind, dissipating=False, max_intensity=300, point_radius=4)\n",
    "\n",
    "fig.add_layer(heat_layer)\n",
    "# Call the figure to plot the data.\n",
    "fig"
   ]
  },
  {
   "cell_type": "markdown",
   "metadata": {},
   "source": [
    "# Getting hotel information"
   ]
  },
  {
   "cell_type": "code",
   "execution_count": null,
   "metadata": {},
   "outputs": [],
   "source": [
    "# Set the parameters to search for a hotel in Paris.\n",
    "params = {\n",
    "    \"radius\": 5000,\n",
    "    \"types\": \"lodging\",\n",
    "    \"key\": g_key,\n",
    "    \"location\": \"48.8566, 2.3522\"}\n",
    "# Use base URL to search for hotels in Paris.\n",
    "base_url = \"https://maps.googleapis.com/maps/api/place/nearbysearch/json\"\n",
    "# Make request and get the JSON data from the search.\n",
    "hotels = requests.get(base_url, params=params).json()\n",
    "hotels"
   ]
  },
  {
   "cell_type": "code",
   "execution_count": null,
   "metadata": {},
   "outputs": [],
   "source": [
    "for key in hotels.keys():\n",
    "    print(key)"
   ]
  },
  {
   "cell_type": "code",
   "execution_count": null,
   "metadata": {},
   "outputs": [],
   "source": [
    "for h in hotels['results']:\n",
    "    print(f\"{h['name']} : {h['geometry']['location']['lat']},{h['geometry']['location']['lng']}\")"
   ]
  },
  {
   "cell_type": "code",
   "execution_count": null,
   "metadata": {},
   "outputs": [],
   "source": [
    "# Lets draw hotel locations on a map!\n",
    "# See: https://jupyter-gmaps.readthedocs.io/en/latest/tutorial.html\n",
    "hotel_info = []\n",
    "for h in hotels['results']:\n",
    "    info = {'name': h['name'], 'location': (h['geometry']['location']['lat'], h['geometry']['location']['lng'])}\n",
    "    hotel_info.append(info)\n",
    "print(hotel_info)"
   ]
  },
  {
   "cell_type": "code",
   "execution_count": null,
   "metadata": {
    "scrolled": true
   },
   "outputs": [],
   "source": [
    "locations = [h['location'] for h in hotel_info]\n",
    "marker_layer = gmaps.marker_layer(locations)\n",
    "fig = gmaps.figure(center=(48.8566, 2.3522), zoom_level=12)\n",
    "fig.add_layer(marker_layer)\n",
    "fig"
   ]
  },
  {
   "cell_type": "code",
   "execution_count": null,
   "metadata": {},
   "outputs": [],
   "source": [
    "#Same map but with info boxes\n",
    "# https://docs.python.org/2.4/lib/node109.html\n",
    "info_box_template = \"\"\"\n",
    "<dl>\n",
    "<dt>Name: </dt><dd>{name}</dd>\n",
    "</dl>\n",
    "\"\"\"\n",
    "info = [info_box_template.format(**h) for h in hotel_info]\n",
    "marker_layer = gmaps.marker_layer(locations, info_box_content=info)\n",
    "fig = gmaps.figure(center=(48.8566, 2.3522), zoom_level=12)\n",
    "fig.add_layer(marker_layer)\n",
    "fig"
   ]
  },
  {
   "cell_type": "code",
   "execution_count": null,
   "metadata": {},
   "outputs": [],
   "source": []
  }
 ],
 "metadata": {
  "kernelspec": {
   "display_name": "PythonData",
   "language": "python",
   "name": "pythondata"
  },
  "language_info": {
   "codemirror_mode": {
    "name": "ipython",
    "version": 3
   },
   "file_extension": ".py",
   "mimetype": "text/x-python",
   "name": "python",
   "nbconvert_exporter": "python",
   "pygments_lexer": "ipython3",
   "version": "3.7.7"
  }
 },
 "nbformat": 4,
 "nbformat_minor": 4
}

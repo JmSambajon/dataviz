{
 "cells": [
  {
   "cell_type": "markdown",
   "metadata": {},
   "source": [
    "# Python Lambda Examples"
   ]
  },
  {
   "cell_type": "code",
   "execution_count": null,
   "metadata": {},
   "outputs": [],
   "source": [
    "# Lambdas are a shortcut. Creates a function with no name!\n",
    "# A really good tutorial is at:\n",
    "#   https://www.programiz.com/python-programming/anonymous-function\n",
    "# Using lambdas with map and filter:\n",
    "#   https://www.geeksforgeeks.org/python-map-function/\n",
    "#   https://www.geeksforgeeks.org/filter-in-python/"
   ]
  },
  {
   "cell_type": "code",
   "execution_count": null,
   "metadata": {},
   "outputs": [],
   "source": [
    "# Simplest example:\n",
    "c_to_f = lambda c: c/5*9 + 32\n",
    "temp_c = 0\n",
    "print(f\"{temp_c} degrees celcius is {c_to_f(temp_c)} degrees farenheit\")\n",
    "temp_c = 40\n",
    "print(f\"{temp_c} degrees celcius is {c_to_f(40)} degrees farenheit\")"
   ]
  },
  {
   "cell_type": "code",
   "execution_count": null,
   "metadata": {},
   "outputs": [],
   "source": [
    "# This is the same as if we created a function:\n",
    "def c_to_f_function(temp_c):\n",
    "    return temp_c/5*9 + 32\n",
    "temp_c = 0\n",
    "print(f\"{temp_c} degrees celcius is {c_to_f_function(temp_c)} degrees farenheit\")\n",
    "temp_c = 40\n",
    "print(f\"{temp_c} degrees celcius is {c_to_f_function(temp_c)} degrees farenheit\")"
   ]
  },
  {
   "cell_type": "code",
   "execution_count": null,
   "metadata": {},
   "outputs": [],
   "source": [
    "# You can use conditionals\n",
    "is_even = lambda x: True if x % 2 == 0 else False\n",
    "print(is_even(34))\n",
    "print(is_even(35))"
   ]
  },
  {
   "cell_type": "code",
   "execution_count": null,
   "metadata": {},
   "outputs": [],
   "source": [
    "#Use the map() function in a lambda.\n",
    "# See filter_and_map.ipynb for a description of filter() and map().\n",
    "my_list = [1,2,3,4,5,6,7,8,9,99]\n",
    "is_even = map(lambda x: True if x % 2 == 0 else False, my_list)\n",
    "list(is_even)"
   ]
  },
  {
   "cell_type": "code",
   "execution_count": null,
   "metadata": {},
   "outputs": [],
   "source": [
    "# Use filter() with a lambda.\n",
    "# See filter_and_map.ipynb for a description of filter() and map().\n",
    "#return the even numbers of the list\n",
    "my_list = [0, 1, 2, 3, 5, 8, 13] \n",
    "result = filter(lambda x: x % 2 != 0, my_list) \n",
    "list(result)"
   ]
  },
  {
   "cell_type": "code",
   "execution_count": null,
   "metadata": {},
   "outputs": [],
   "source": [
    "# Use filter() with a function instead of a lambda\n",
    "def is_even(num):\n",
    "    if num % 2 == 0:\n",
    "        return True\n",
    "    return False\n",
    "#return the even numbers of the list\n",
    "my_list = [0, 1, 2, 3, 5, 8, 13] \n",
    "result = filter(is_even, my_list) \n",
    "list(result)"
   ]
  }
 ],
 "metadata": {
  "kernelspec": {
   "display_name": "Python 3",
   "language": "python",
   "name": "python3"
  },
  "language_info": {
   "codemirror_mode": {
    "name": "ipython",
    "version": 3
   },
   "file_extension": ".py",
   "mimetype": "text/x-python",
   "name": "python",
   "nbconvert_exporter": "python",
   "pygments_lexer": "ipython3",
   "version": "3.8.3"
  }
 },
 "nbformat": 4,
 "nbformat_minor": 4
}

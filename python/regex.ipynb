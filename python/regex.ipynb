{
 "cells": [
  {
   "cell_type": "markdown",
   "metadata": {},
   "source": [
    "# Regular Expressions (AKA *regex*)\n",
    "\n",
    "* Covered in Module 8.3.9\n",
    "* Module 8.3.9 has a good cheatsheet in the lower half of the page\n",
    "* Another cheatsheet: https://cheatography.com/davechild/cheat-sheets/regular-expressions/\n",
    "* See https://regexr.com/\n",
    "* See https://regex101.com/ (I think this one is the best)\n",
    "\n",
    "Please take to heart the quote from Module 8.3.9:\n",
    "> It starts getting wild quickly\n",
    "\n",
    "## Regular expressions are just strings of characters that are used as a search pattern."
   ]
  },
  {
   "cell_type": "markdown",
   "metadata": {},
   "source": [
    "---\n",
    "## Functions\n",
    "* **findall()** - Returns a list containing all matches\n",
    "* **search()**  - Returns a Match object if there is a match anywhere in the string\n",
    "* **split()**   - Returns a list where the string has been split at each match\n",
    "* **sub()**     - Replaces one or many matches with a string\n",
    "---"
   ]
  },
  {
   "cell_type": "code",
   "execution_count": 13,
   "metadata": {},
   "outputs": [],
   "source": [
    "# You will need to impoert:\n",
    "import re"
   ]
  },
  {
   "cell_type": "markdown",
   "metadata": {},
   "source": [
    "---\n",
    "## findall()"
   ]
  },
  {
   "cell_type": "code",
   "execution_count": 22,
   "metadata": {},
   "outputs": [
    {
     "data": {
      "text/plain": [
       "['cat']"
      ]
     },
     "execution_count": 22,
     "metadata": {},
     "output_type": "execute_result"
    }
   ],
   "source": [
    "# Simplest example I can think of\n",
    "# How many times does a substring appear in text?\n",
    "sentence = \"The fat cat that sat on a mat\"\n",
    "list_of_matches = re.findall(r\"cat\", sentence)\n",
    "list_of_matches"
   ]
  },
  {
   "cell_type": "code",
   "execution_count": 25,
   "metadata": {},
   "outputs": [
    {
     "data": {
      "text/plain": [
       "[]"
      ]
     },
     "execution_count": 25,
     "metadata": {},
     "output_type": "execute_result"
    }
   ],
   "source": [
    "# If there are no matches?\n",
    "list_of_matches = re.findall(r\"xxx\", sentence)\n",
    "list_of_matches\n",
    "# Empty list!"
   ]
  },
  {
   "cell_type": "code",
   "execution_count": 30,
   "metadata": {},
   "outputs": [
    {
     "data": {
      "text/plain": [
       "[]"
      ]
     },
     "execution_count": 30,
     "metadata": {},
     "output_type": "execute_result"
    }
   ],
   "source": [
    "# Find all the words\n",
    "re.findall(r'/\\b(at)\\b/g', sentence)"
   ]
  },
  {
   "cell_type": "code",
   "execution_count": 31,
   "metadata": {},
   "outputs": [
    {
     "data": {
      "text/plain": [
       "['fat', 'cat', 'that', 'sat', 'mat']"
      ]
     },
     "execution_count": 31,
     "metadata": {},
     "output_type": "execute_result"
    }
   ],
   "source": [
    "# Find all words that contain a string\n",
    "re.findall(r'(\\w*at\\w*)', sentence)"
   ]
  },
  {
   "cell_type": "markdown",
   "metadata": {},
   "source": [
    "---\n",
    "## split()"
   ]
  },
  {
   "cell_type": "code",
   "execution_count": 35,
   "metadata": {},
   "outputs": [
    {
     "data": {
      "text/plain": [
       "['The', 'fat', 'cat', 'that', 'sat', 'on', 'a', 'mat']"
      ]
     },
     "execution_count": 35,
     "metadata": {},
     "output_type": "execute_result"
    }
   ],
   "source": [
    "# Split the string based on a pattern.\n",
    "# In this case the pattern is a wgitespace character\n",
    "# returns a list\n",
    "sentence = \"The fat cat that sat on a mat\"\n",
    "re.split(r\"\\s\", sentence)"
   ]
  },
  {
   "cell_type": "code",
   "execution_count": 36,
   "metadata": {},
   "outputs": [
    {
     "data": {
      "text/plain": [
       "['The fat cat that sat on a mat']"
      ]
     },
     "execution_count": 36,
     "metadata": {},
     "output_type": "execute_result"
    }
   ],
   "source": [
    "# If the split canot occur, it does not split\n",
    "re.split(r\"x\", sentence)"
   ]
  },
  {
   "cell_type": "code",
   "execution_count": 37,
   "metadata": {},
   "outputs": [
    {
     "data": {
      "text/plain": [
       "['The', 'fat', 'cat that sat on a mat']"
      ]
     },
     "execution_count": 37,
     "metadata": {},
     "output_type": "execute_result"
    }
   ],
   "source": [
    "# Split only the first 2 occurences\n",
    "# This is the \"maxsplit\" character\n",
    "re.split(r\"\\s\", sentence, 2)"
   ]
  },
  {
   "cell_type": "code",
   "execution_count": 50,
   "metadata": {},
   "outputs": [
    {
     "data": {
      "text/plain": [
       "['The yellow ', 'fatty', '', 'cat', '', 'that', '', 'sat', 'on a mat']"
      ]
     },
     "execution_count": 50,
     "metadata": {},
     "output_type": "execute_result"
    }
   ],
   "source": [
    "# Split only the first 2 occurences\n",
    "# This is the \"maxsplit\" character\n",
    "sentence = \"The yellow fatty cat that sat on a mat\"\n",
    "split_list = re.split(r\"(\\w*at\\w*)\\s\", sentence)\n",
    "split_list"
   ]
  },
  {
   "cell_type": "code",
   "execution_count": 51,
   "metadata": {},
   "outputs": [
    {
     "data": {
      "text/plain": [
       "['The yellow ', 'fatty', 'cat', 'that', 'sat', 'on a mat']"
      ]
     },
     "execution_count": 51,
     "metadata": {},
     "output_type": "execute_result"
    }
   ],
   "source": [
    "# Notice the ''. There is probably a way to change the regex expression wo hanle this.\n",
    "# But lets use a list comprehension to remove them\n",
    "without_empty = [w for w in split_list if w != '']\n",
    "without_empty"
   ]
  },
  {
   "cell_type": "code",
   "execution_count": 54,
   "metadata": {},
   "outputs": [
    {
     "data": {
      "text/plain": [
       "['The yellow ', 'fatty', 'cat', 'that', 'sat', 'on a mat']"
      ]
     },
     "execution_count": 54,
     "metadata": {},
     "output_type": "execute_result"
    }
   ],
   "source": [
    "# Or we can make is a one liner\n",
    "without_empty = [w for w in re.split(r\"(\\w*at\\w*)\\s\", \"The yellow fatty cat that sat on a mat\") if w != '']\n",
    "without_empty"
   ]
  },
  {
   "cell_type": "markdown",
   "metadata": {},
   "source": [
    "---\n",
    "## sub()"
   ]
  },
  {
   "cell_type": "code",
   "execution_count": 55,
   "metadata": {},
   "outputs": [
    {
     "data": {
      "text/plain": [
       "'The,yellow,fatty,cat,that,sat,on,a,mat'"
      ]
     },
     "execution_count": 55,
     "metadata": {},
     "output_type": "execute_result"
    }
   ],
   "source": [
    "# Substitute a comma for any whitespaces\n",
    "sentence = \"The yellow fatty cat that sat on a mat\"\n",
    "re.sub(r\"\\s\", \",\", sentence)"
   ]
  },
  {
   "cell_type": "code",
   "execution_count": 57,
   "metadata": {},
   "outputs": [
    {
     "data": {
      "text/plain": [
       "'The,yellow,fatty,cat that sat on a mat'"
      ]
     },
     "execution_count": 57,
     "metadata": {},
     "output_type": "execute_result"
    }
   ],
   "source": [
    "# Substitute a comma for the FIRST 3 whitespaces\n",
    "sentence = \"The yellow fatty cat that sat on a mat\"\n",
    "re.sub(r\"\\s\", \",\", sentence, 3)"
   ]
  },
  {
   "cell_type": "code",
   "execution_count": 62,
   "metadata": {},
   "outputs": [
    {
     "data": {
      "text/plain": [
       "'The SPACE yellow SPACE fatty SPACE cat SPACE that SPACE sat SPACE on SPACE a SPACE mat'"
      ]
     },
     "execution_count": 62,
     "metadata": {},
     "output_type": "execute_result"
    }
   ],
   "source": [
    "# Subsitute for all spaces\n",
    "re.sub(r\"\\s\", \" SPACE \", sentence)"
   ]
  },
  {
   "cell_type": "code",
   "execution_count": 69,
   "metadata": {},
   "outputs": [
    {
     "data": {
      "text/plain": [
       "'WORD WORD WORD WORD WORD WORD WORD WORD WORD'"
      ]
     },
     "execution_count": 69,
     "metadata": {},
     "output_type": "execute_result"
    }
   ],
   "source": [
    "# Subsitute for all words\n",
    "re.sub(r\"\\w+\", \"WORD\", sentence)"
   ]
  },
  {
   "cell_type": "code",
   "execution_count": 70,
   "metadata": {},
   "outputs": [
    {
     "data": {
      "text/plain": [
       "'The yellow fatty WORD that sat on a mat'"
      ]
     },
     "execution_count": 70,
     "metadata": {},
     "output_type": "execute_result"
    }
   ],
   "source": [
    "# Subsitute for all occurences of \"cat\"\n",
    "re.sub(r\"(cat)\", \"WORD\", sentence)"
   ]
  },
  {
   "cell_type": "code",
   "execution_count": 72,
   "metadata": {},
   "outputs": [
    {
     "data": {
      "text/plain": [
       "'The yellow AT-WORD AT-WORD AT-WORD AT-WORD on a AT-WORD'"
      ]
     },
     "execution_count": 72,
     "metadata": {},
     "output_type": "execute_result"
    }
   ],
   "source": [
    "# Any word with \"at\"\n",
    "re.sub(r\"(\\w*at\\w*)\", \"AT-WORD\", sentence)"
   ]
  },
  {
   "cell_type": "markdown",
   "metadata": {},
   "source": [
    "---\n",
    "## search()\n",
    "* Returns a Match object if there is a match anywhere in the string\n",
    "* A Match Object is an object containing information about the search and the result.\n",
    "* You don't get back a list, but rather, a match object.\n",
    "\n",
    "### The match Object contains 2 methods and one property\n",
    "\n",
    "* .span() returns a tuple containing the start-, and end positions of the match. Note the end position is NOT INCLISIVE. For eample a single character at index 3 would be (3, 4).\n",
    "* .string returns the string passed into the function. Note there is no (), this is a property\n",
    "* .group() returns the part of the string where there was a match\n"
   ]
  },
  {
   "cell_type": "code",
   "execution_count": 93,
   "metadata": {},
   "outputs": [
    {
     "data": {
      "text/plain": [
       "<re.Match object; span=(3, 4), match=' '>"
      ]
     },
     "execution_count": 93,
     "metadata": {},
     "output_type": "execute_result"
    }
   ],
   "source": [
    "# Search for a space. \n",
    "sentence = \"The fat cat that sat On a mat\"\n",
    "re.search(r\"\\s\", sentence)\n",
    "# (you get back a match object)"
   ]
  },
  {
   "cell_type": "code",
   "execution_count": 94,
   "metadata": {},
   "outputs": [
    {
     "data": {
      "text/plain": [
       "<re.Match object; span=(21, 23), match='On'>"
      ]
     },
     "execution_count": 94,
     "metadata": {},
     "output_type": "execute_result"
    }
   ],
   "source": [
    "# Search for a word starting with a capital \"O\"\n",
    "re.search(r\"\\bO\\w+\",sentence)"
   ]
  },
  {
   "cell_type": "code",
   "execution_count": 95,
   "metadata": {},
   "outputs": [
    {
     "data": {
      "text/plain": [
       "'On'"
      ]
     },
     "execution_count": 95,
     "metadata": {},
     "output_type": "execute_result"
    }
   ],
   "source": [
    "# Gett he part where it matched\n",
    "re.search(r\"\\bO\\w+\",sentence).group()"
   ]
  },
  {
   "cell_type": "code",
   "execution_count": 97,
   "metadata": {},
   "outputs": [
    {
     "data": {
      "text/plain": [
       "(21, 23)"
      ]
     },
     "execution_count": 97,
     "metadata": {},
     "output_type": "execute_result"
    }
   ],
   "source": [
    "re.search(r\"\\bO\\w+\",sentence).span()"
   ]
  },
  {
   "cell_type": "code",
   "execution_count": 98,
   "metadata": {},
   "outputs": [
    {
     "data": {
      "text/plain": [
       "'The fat cat that sat On a mat'"
      ]
     },
     "execution_count": 98,
     "metadata": {},
     "output_type": "execute_result"
    }
   ],
   "source": [
    "re.search(r\"\\bO\\w+\",sentence).string"
   ]
  },
  {
   "cell_type": "markdown",
   "metadata": {},
   "source": [
    "---\n",
    "## Phone Numbers"
   ]
  },
  {
   "cell_type": "code",
   "execution_count": 115,
   "metadata": {},
   "outputs": [
    {
     "data": {
      "text/plain": [
       "[('303', '333', '4444'), ('916', '333', '5555'), ('408', '333', '6678')]"
      ]
     },
     "execution_count": 115,
     "metadata": {},
     "output_type": "execute_result"
    }
   ],
   "source": [
    "# Get the phone numbers from a string\n",
    "phone_number = \"The first phone number id 303-333-4444 the other is 916-333-5555, the third is 408-333-66789\"\n",
    "re.findall(\"(\\d{3})-(\\d{3})-(\\d{4})\", phone_number)\n",
    "# See the past phone number - it incorrectly matched. it has too many digits"
   ]
  },
  {
   "cell_type": "code",
   "execution_count": 116,
   "metadata": {},
   "outputs": [
    {
     "data": {
      "text/plain": [
       "[('303', '333', '4444'), ('916', '333', '5555')]"
      ]
     },
     "execution_count": 116,
     "metadata": {},
     "output_type": "execute_result"
    }
   ],
   "source": [
    "# Append (?!\\d) to the expresion. See \"Negative lookahead groups\" in Module 8.3.9 \n",
    "phone_number = \"The first phone number id 303-333-4444 the other is 916-333-5555, the third is 408-333-66789\"\n",
    "re.findall(\"(\\d{3})-(\\d{3})-(\\d{4})(?!\\d)\", phone_number)"
   ]
  },
  {
   "cell_type": "code",
   "execution_count": 111,
   "metadata": {},
   "outputs": [
    {
     "data": {
      "text/plain": [
       "['303', '916']"
      ]
     },
     "execution_count": 111,
     "metadata": {},
     "output_type": "execute_result"
    }
   ],
   "source": [
    "area_codes = re.findall(\"(\\d{3})-(?:\\d{3})-(?:\\d{4})(?!\\d)\", phone_number)\n",
    "area_codes"
   ]
  },
  {
   "cell_type": "code",
   "execution_count": 118,
   "metadata": {},
   "outputs": [
    {
     "data": {
      "text/plain": [
       "['303-333-4444', '916-333-5555']"
      ]
     },
     "execution_count": 118,
     "metadata": {},
     "output_type": "execute_result"
    }
   ],
   "source": [
    "# Create a list of the full phone numbers as strings\n",
    "# List compremension!\n",
    "['-'.join(ph) for ph in re.findall(\"(\\d{3})-(\\d{3})-(\\d{4})(?!\\d)\", phone_number)]"
   ]
  },
  {
   "cell_type": "code",
   "execution_count": null,
   "metadata": {},
   "outputs": [],
   "source": []
  }
 ],
 "metadata": {
  "kernelspec": {
   "display_name": "PythonData",
   "language": "python",
   "name": "pythondata"
  },
  "language_info": {
   "codemirror_mode": {
    "name": "ipython",
    "version": 3
   },
   "file_extension": ".py",
   "mimetype": "text/x-python",
   "name": "python",
   "nbconvert_exporter": "python",
   "pygments_lexer": "ipython3",
   "version": "3.7.7"
  }
 },
 "nbformat": 4,
 "nbformat_minor": 4
}
